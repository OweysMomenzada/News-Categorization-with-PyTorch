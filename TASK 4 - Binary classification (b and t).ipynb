{
 "cells": [
  {
   "cell_type": "markdown",
   "metadata": {},
   "source": [
    "# Assignment <span style=\"color:red\">option Four</span> - News Categorization  using PyTorch \n",
    "Download the dataset from https://www.kaggle.com/uciml/news-aggregator-dataset and develop a news classification or categorization model. The dataset contain only titles of a news item and some metadata. The categories of the news items include one of: –<span  style=\"color:red\"> b</span> : business – <span  style=\"color:red\">t</span> : science and technology – <span  style=\"color:red\">e</span> : entertainment and –<span  style=\"color:red\">m</span> : health. \n",
    "\n",
    "1. Prepare training and test dataset: Split the data into training and test set (80% train and 20% test). Make sure they are balanced, otherwise if all <span  style=\"color:red\">b</span> files are on training, your model fails to predict <span  style=\"color:red\">t</span> files in test.\n",
    "2. Binary classification: produce training data for each two categories, such as <span  style=\"color:red\">b </span> and <span  style=\"color:red\"> t</span>, <span  style=\"color:red\">b</span> and <span  style=\"color:red\"> m</span>, <span  style=\"color:red\">e</span> and <span  style=\"color:red\">t</span> and so on. Evaluate the performance and report which categories are easier for the models.\n",
    "3. Adapt the Text Categorization PyTorch code (see above) and evaluate the performance of the system for these task\n",
    "4. Use a pre-trained embeddings and compare your result. When you use pre-ttrained mebeddings, you have to average the word embeddings of each tokens in ach document to get the unique representation of the document. DOC_EMBEDDING = (TOKEN1_EMBEDDING + ... + TOKENn_EMBEDDING). You can also use some of the <span  style=\"color:red\">spacy/FLAIR </span>document embedding methods\n",
    "6. Report the recall, precision, and F1 scores for both binary and multi-class classification.\n",
    " "
   ]
  },
  {
   "cell_type": "markdown",
   "metadata": {},
   "source": [
    "# Binary classification (b and t) (NOT PRETRAINED)"
   ]
  },
  {
   "cell_type": "markdown",
   "metadata": {},
   "source": [
    "#### In this notebook we train the model on a integer sequence based on the tokens (NOT PRETRAINED). "
   ]
  },
  {
   "cell_type": "code",
   "execution_count": 1,
   "metadata": {},
   "outputs": [],
   "source": [
    "import pandas as pd\n",
    "from collections import Counter\n",
    "\n",
    "df = pd.read_csv('uci-news-aggregator.csv')\n",
    "\n",
    "del df['URL']\n",
    "del df['PUBLISHER']\n",
    "del df['STORY']\n",
    "del df['HOSTNAME']\n",
    "del df['TIMESTAMP']\n",
    "del df['ID']"
   ]
  },
  {
   "cell_type": "code",
   "execution_count": 2,
   "metadata": {},
   "outputs": [],
   "source": [
    "df.CATEGORY.replace('b','business', inplace=True)\n",
    "df.CATEGORY.replace('t','science and technology', inplace=True)\n",
    "df.CATEGORY.replace('e','entertainment', inplace=True)\n",
    "df.CATEGORY.replace('m','health', inplace=True)"
   ]
  },
  {
   "cell_type": "code",
   "execution_count": 3,
   "metadata": {},
   "outputs": [],
   "source": [
    "from sklearn.preprocessing import LabelEncoder\n",
    "\n",
    "lb_make = LabelEncoder()\n",
    "labels = lb_make.fit_transform(df.CATEGORY)"
   ]
  },
  {
   "cell_type": "code",
   "execution_count": 4,
   "metadata": {},
   "outputs": [],
   "source": [
    "df['labels'] = labels"
   ]
  },
  {
   "cell_type": "code",
   "execution_count": 5,
   "metadata": {},
   "outputs": [],
   "source": [
    "import numpy as np\n",
    "from sklearn.model_selection import train_test_split\n",
    "\n",
    "train, test =  train_test_split(df, test_size=0.20, random_state=42)"
   ]
  },
  {
   "cell_type": "code",
   "execution_count": 6,
   "metadata": {},
   "outputs": [
    {
     "data": {
      "text/plain": [
       "entertainment             122116\n",
       "business                   92553\n",
       "science and technology     86651\n",
       "health                     36615\n",
       "Name: CATEGORY, dtype: int64"
      ]
     },
     "execution_count": 6,
     "metadata": {},
     "output_type": "execute_result"
    }
   ],
   "source": [
    "train.CATEGORY.value_counts()"
   ]
  },
  {
   "cell_type": "code",
   "execution_count": 7,
   "metadata": {},
   "outputs": [
    {
     "data": {
      "text/plain": [
       "1    30353\n",
       "0    23414\n",
       "3    21693\n",
       "2     9024\n",
       "Name: labels, dtype: int64"
      ]
     },
     "execution_count": 7,
     "metadata": {},
     "output_type": "execute_result"
    }
   ],
   "source": [
    "test.labels.value_counts()"
   ]
  },
  {
   "cell_type": "markdown",
   "metadata": {},
   "source": [
    "### Because of memory issues we define 70000 as the maximum number of words considered"
   ]
  },
  {
   "cell_type": "code",
   "execution_count": null,
   "metadata": {},
   "outputs": [],
   "source": [
    "#!pip install tensorflow\n",
    "import tensorflow as tf\n",
    "tf.config.run_functions_eagerly(False)\n",
    "from tensorflow.keras.preprocessing.text import Tokenizer\n",
    "from tensorflow.keras.preprocessing.sequence import pad_sequences\n",
    "\n",
    "# The maximum number of most frequent words to be used.\n",
    "MAX_NB_WORDS = 10000 # TODO: Check if still correct\n",
    "# Max number of words in each row\n",
    "MAX_SEQUENCE_LENGTH = 150\n",
    "\n",
    "print(\"Doing...\")\n",
    "tokenizer = Tokenizer(num_words=MAX_NB_WORDS, lower=True)\n",
    "tokenizer.fit_on_texts(df['TITLE'].values)\n",
    "word2index = tokenizer.word_index\n",
    "print('Found %s unique tokens.' % len(word2index))"
   ]
  },
  {
   "cell_type": "code",
   "execution_count": 9,
   "metadata": {},
   "outputs": [],
   "source": [
    "from keras.preprocessing.text import text_to_word_sequence\n",
    "\n",
    "def get_batch(df,i,batch_size):\n",
    "    batches = []\n",
    "    results = []\n",
    "    texts = df.TITLE[i*batch_size:i*batch_size+batch_size]\n",
    "    categories = df.labels[i*batch_size:i*batch_size+batch_size]\n",
    "    \n",
    "    for text in texts:\n",
    "        layer = np.zeros(total_words,dtype=float)\n",
    "\n",
    "        for word in text_to_word_sequence(text):\n",
    "            word2index[word.lower()]\n",
    "            layer[word2index[word.lower()]] += 1\n",
    "        batches.append(layer)\n",
    "\n",
    "    for category in categories:\n",
    "        index_y = -1\n",
    "        if category == 0:\n",
    "            index_y = 0\n",
    "        elif category == 1:\n",
    "            index_y = 1\n",
    "        elif category == 2:\n",
    "            index_y = 2\n",
    "        else:\n",
    "            index_y = 3\n",
    "        results.append(index_y)\n",
    "\n",
    "    return np.array(batches),np.array(results)"
   ]
  },
  {
   "cell_type": "code",
   "execution_count": 43,
   "metadata": {},
   "outputs": [],
   "source": [
    "def pad_sequence(texts):\n",
    "    batches = []\n",
    "    for text in texts:\n",
    "        layer = np.zeros(total_words,dtype=float)\n",
    "\n",
    "        for word in text_to_word_sequence(text):\n",
    "            try:\n",
    "                word2index[word.lower()]\n",
    "                layer[word2index[word.lower()]] += 1\n",
    "            except:\n",
    "                print(\"word is not included\")            \n",
    "        batches.append(layer)\n",
    "    \n",
    "    return batches"
   ]
  },
  {
   "cell_type": "code",
   "execution_count": 11,
   "metadata": {},
   "outputs": [],
   "source": [
    "import torch.nn as nn\n",
    "import torch\n",
    "\n",
    "learning_rate = 0.1\n",
    "num_epochs = 3 # TODO: check if more is better?\n",
    "batch_size = 2000\n",
    "display_step = 1\n",
    "total_words = len(word2index)\n",
    "hidden_size = 64 \n",
    "input_size = total_words\n",
    "num_classes = 4 # TODO: reduce to two\n",
    "\n",
    "class ANN(nn.Module):\n",
    "    def __init__(self, input_size, hidden_size, num_classes):\n",
    "        super(ANN, self).__init__()\n",
    "        self.layer_1 = nn.Linear(input_size,hidden_size, bias=True)\n",
    "        self.relu = nn.ReLU()\n",
    "        self.layer_2 = nn.Linear(hidden_size, hidden_size, bias=True)\n",
    "        self.output_layer = nn.Linear(hidden_size, num_classes, bias=True)\n",
    "\n",
    "    def forward(self, x):\n",
    "        out = self.layer_1(x)\n",
    "        out = self.relu(out)\n",
    "        out = self.layer_2(out)\n",
    "        out = self.relu(out)\n",
    "        out = self.output_layer(out)\n",
    "        return out"
   ]
  },
  {
   "cell_type": "markdown",
   "metadata": {},
   "source": [
    "##### We could observe that the loss is not decreasing under 0.08. Therefore, we earlystop after 3 Epochs"
   ]
  },
  {
   "cell_type": "code",
   "execution_count": 12,
   "metadata": {
    "scrolled": true
   },
   "outputs": [
    {
     "name": "stderr",
     "output_type": "stream",
     "text": [
      "C:\\Users\\PCOvice\\anaconda3\\lib\\site-packages\\torch\\autograd\\__init__.py:147: UserWarning: CUDA initialization: CUDA unknown error - this may be due to an incorrectly set up environment, e.g. changing env variable CUDA_VISIBLE_DEVICES after program start. Setting the available devices to be zero. (Triggered internally at  ..\\c10\\cuda\\CUDAFunctions.cpp:115.)\n",
      "  Variable._execution_engine.run_backward(\n"
     ]
    },
    {
     "name": "stdout",
     "output_type": "stream",
     "text": [
      "Epoch [1/3], Step [4/168], Loss: 0.9402\n",
      "Epoch [1/3], Step [8/168], Loss: 0.6029\n",
      "Epoch [1/3], Step [12/168], Loss: 0.4921\n",
      "Epoch [1/3], Step [16/168], Loss: 0.3996\n",
      "Epoch [1/3], Step [20/168], Loss: 0.3735\n",
      "Epoch [1/3], Step [24/168], Loss: 0.3821\n",
      "Epoch [1/3], Step [28/168], Loss: 0.3073\n",
      "Epoch [1/3], Step [32/168], Loss: 0.2900\n",
      "Epoch [1/3], Step [36/168], Loss: 0.2545\n",
      "Epoch [1/3], Step [40/168], Loss: 0.2368\n",
      "Epoch [1/3], Step [44/168], Loss: 0.2411\n",
      "Epoch [1/3], Step [48/168], Loss: 0.2204\n",
      "Epoch [1/3], Step [52/168], Loss: 0.2013\n",
      "Epoch [1/3], Step [56/168], Loss: 0.2035\n",
      "Epoch [1/3], Step [60/168], Loss: 0.2273\n",
      "Epoch [1/3], Step [64/168], Loss: 0.2265\n",
      "Epoch [1/3], Step [68/168], Loss: 0.2098\n",
      "Epoch [1/3], Step [72/168], Loss: 0.1923\n",
      "Epoch [1/3], Step [76/168], Loss: 0.2009\n",
      "Epoch [1/3], Step [80/168], Loss: 0.1953\n",
      "Epoch [1/3], Step [84/168], Loss: 0.2218\n",
      "Epoch [1/3], Step [88/168], Loss: 0.1799\n",
      "Epoch [1/3], Step [92/168], Loss: 0.1940\n",
      "Epoch [1/3], Step [96/168], Loss: 0.1883\n",
      "Epoch [1/3], Step [100/168], Loss: 0.1985\n",
      "Epoch [1/3], Step [104/168], Loss: 0.1838\n",
      "Epoch [1/3], Step [108/168], Loss: 0.1900\n",
      "Epoch [1/3], Step [112/168], Loss: 0.1610\n",
      "Epoch [1/3], Step [116/168], Loss: 0.1732\n",
      "Epoch [1/3], Step [120/168], Loss: 0.1991\n",
      "Epoch [1/3], Step [124/168], Loss: 0.1671\n",
      "Epoch [1/3], Step [128/168], Loss: 0.1954\n",
      "Epoch [1/3], Step [132/168], Loss: 0.1910\n",
      "Epoch [1/3], Step [136/168], Loss: 0.1800\n",
      "Epoch [1/3], Step [140/168], Loss: 0.1449\n",
      "Epoch [1/3], Step [144/168], Loss: 0.1738\n",
      "Epoch [1/3], Step [148/168], Loss: 0.1805\n",
      "Epoch [1/3], Step [152/168], Loss: 0.1821\n",
      "Epoch [1/3], Step [156/168], Loss: 0.1472\n",
      "Epoch [1/3], Step [160/168], Loss: 0.1686\n",
      "Epoch [1/3], Step [164/168], Loss: 0.1629\n",
      "Epoch [1/3], Step [168/168], Loss: 0.1903\n",
      "Epoch [2/3], Step [4/168], Loss: 0.1599\n",
      "Epoch [2/3], Step [8/168], Loss: 0.1285\n",
      "Epoch [2/3], Step [12/168], Loss: 0.1556\n",
      "Epoch [2/3], Step [16/168], Loss: 0.1376\n",
      "Epoch [2/3], Step [20/168], Loss: 0.1391\n",
      "Epoch [2/3], Step [24/168], Loss: 0.1480\n",
      "Epoch [2/3], Step [28/168], Loss: 0.1199\n",
      "Epoch [2/3], Step [32/168], Loss: 0.1383\n",
      "Epoch [2/3], Step [36/168], Loss: 0.1160\n",
      "Epoch [2/3], Step [40/168], Loss: 0.1100\n",
      "Epoch [2/3], Step [44/168], Loss: 0.1275\n",
      "Epoch [2/3], Step [48/168], Loss: 0.1114\n",
      "Epoch [2/3], Step [52/168], Loss: 0.0989\n",
      "Epoch [2/3], Step [56/168], Loss: 0.1089\n",
      "Epoch [2/3], Step [60/168], Loss: 0.1202\n",
      "Epoch [2/3], Step [64/168], Loss: 0.1238\n",
      "Epoch [2/3], Step [68/168], Loss: 0.1189\n",
      "Epoch [2/3], Step [72/168], Loss: 0.0990\n",
      "Epoch [2/3], Step [76/168], Loss: 0.1002\n",
      "Epoch [2/3], Step [80/168], Loss: 0.1088\n",
      "Epoch [2/3], Step [84/168], Loss: 0.1069\n",
      "Epoch [2/3], Step [88/168], Loss: 0.0870\n",
      "Epoch [2/3], Step [92/168], Loss: 0.0922\n",
      "Epoch [2/3], Step [96/168], Loss: 0.1004\n",
      "Epoch [2/3], Step [100/168], Loss: 0.1198\n",
      "Epoch [2/3], Step [104/168], Loss: 0.0920\n",
      "Epoch [2/3], Step [108/168], Loss: 0.1005\n",
      "Epoch [2/3], Step [112/168], Loss: 0.0859\n",
      "Epoch [2/3], Step [116/168], Loss: 0.0836\n",
      "Epoch [2/3], Step [120/168], Loss: 0.1078\n",
      "Epoch [2/3], Step [124/168], Loss: 0.0800\n",
      "Epoch [2/3], Step [128/168], Loss: 0.0970\n",
      "Epoch [2/3], Step [132/168], Loss: 0.0850\n",
      "Epoch [2/3], Step [136/168], Loss: 0.1167\n",
      "Epoch [2/3], Step [140/168], Loss: 0.0897\n",
      "Epoch [2/3], Step [144/168], Loss: 0.1018\n",
      "Epoch [2/3], Step [148/168], Loss: 0.1101\n",
      "Epoch [2/3], Step [152/168], Loss: 0.0927\n",
      "Epoch [2/3], Step [156/168], Loss: 0.0847\n",
      "Epoch [2/3], Step [160/168], Loss: 0.1019\n",
      "Epoch [2/3], Step [164/168], Loss: 0.0894\n",
      "Epoch [2/3], Step [168/168], Loss: 0.1248\n",
      "Epoch [3/3], Step [4/168], Loss: 0.1130\n",
      "Epoch [3/3], Step [8/168], Loss: 0.0819\n",
      "Epoch [3/3], Step [12/168], Loss: 0.0896\n",
      "Epoch [3/3], Step [16/168], Loss: 0.0986\n",
      "Epoch [3/3], Step [20/168], Loss: 0.0790\n",
      "Epoch [3/3], Step [24/168], Loss: 0.0909\n",
      "Epoch [3/3], Step [28/168], Loss: 0.0813\n",
      "Epoch [3/3], Step [32/168], Loss: 0.0814\n",
      "Epoch [3/3], Step [36/168], Loss: 0.0791\n",
      "Epoch [3/3], Step [40/168], Loss: 0.0666\n",
      "Epoch [3/3], Step [44/168], Loss: 0.0844\n",
      "Epoch [3/3], Step [48/168], Loss: 0.0707\n",
      "Epoch [3/3], Step [52/168], Loss: 0.0786\n",
      "Epoch [3/3], Step [56/168], Loss: 0.0846\n",
      "Epoch [3/3], Step [60/168], Loss: 0.0699\n",
      "Epoch [3/3], Step [64/168], Loss: 0.0891\n",
      "Epoch [3/3], Step [68/168], Loss: 0.0791\n",
      "Epoch [3/3], Step [72/168], Loss: 0.0597\n",
      "Epoch [3/3], Step [76/168], Loss: 0.0691\n",
      "Epoch [3/3], Step [80/168], Loss: 0.0793\n",
      "Epoch [3/3], Step [84/168], Loss: 0.0753\n",
      "Epoch [3/3], Step [88/168], Loss: 0.0747\n",
      "Epoch [3/3], Step [92/168], Loss: 0.0827\n",
      "Epoch [3/3], Step [96/168], Loss: 0.0895\n",
      "Epoch [3/3], Step [100/168], Loss: 0.0916\n",
      "Epoch [3/3], Step [104/168], Loss: 0.0738\n",
      "Epoch [3/3], Step [108/168], Loss: 0.0889\n",
      "Epoch [3/3], Step [112/168], Loss: 0.0663\n",
      "Epoch [3/3], Step [116/168], Loss: 0.0803\n",
      "Epoch [3/3], Step [120/168], Loss: 0.0835\n",
      "Epoch [3/3], Step [124/168], Loss: 0.0791\n",
      "Epoch [3/3], Step [128/168], Loss: 0.1117\n",
      "Epoch [3/3], Step [132/168], Loss: 0.0830\n",
      "Epoch [3/3], Step [136/168], Loss: 0.0888\n",
      "Epoch [3/3], Step [140/168], Loss: 0.0574\n",
      "Epoch [3/3], Step [144/168], Loss: 0.0688\n",
      "Epoch [3/3], Step [148/168], Loss: 0.0764\n",
      "Epoch [3/3], Step [152/168], Loss: 0.0748\n",
      "Epoch [3/3], Step [156/168], Loss: 0.0609\n",
      "Epoch [3/3], Step [160/168], Loss: 0.0714\n",
      "Epoch [3/3], Step [164/168], Loss: 0.0832\n",
      "Epoch [3/3], Step [168/168], Loss: 0.0889\n"
     ]
    }
   ],
   "source": [
    "model = ANN(input_size, hidden_size, num_classes)\n",
    "criterion = nn.CrossEntropyLoss()\n",
    "optimizer = torch.optim.Adam(model.parameters(), lr=learning_rate)  \n",
    "\n",
    "for epoch in range(num_epochs):\n",
    "    total_batch = int(len(train.TITLE)/batch_size)\n",
    "    for i in range(total_batch):\n",
    "        batch_x,batch_y = get_batch(train,i,batch_size)\n",
    "        articles = torch.FloatTensor(batch_x)\n",
    "        labels = torch.LongTensor(batch_y)\n",
    "\n",
    "        optimizer.zero_grad()\n",
    "        outputs = model(articles)\n",
    "        loss = criterion(outputs, labels)\n",
    "        loss.backward()\n",
    "        optimizer.step()\n",
    "\n",
    "        if (i+1) % 4 == 0:\n",
    "            print ('Epoch [%d/%d], Step [%d/%d], Loss: %.4f'\n",
    "                   %(epoch+1, num_epochs, i+1, \n",
    "                     len(train.TITLE)/batch_size, loss.data))"
   ]
  },
  {
   "cell_type": "code",
   "execution_count": 61,
   "metadata": {
    "scrolled": true
   },
   "outputs": [],
   "source": [
    "#torch.save(ANN.state_dict(input_size, hidden_size, num_classes), 'mode.pth')\n",
    "\n",
    "# model = ANN(input_size, hidden_size, num_classes)\n",
    "# model.load_state_dict(torch.load('mode.pth'))\n",
    "# model.eval()"
   ]
  },
  {
   "cell_type": "markdown",
   "metadata": {},
   "source": [
    "## Divide and conquer\n",
    "\n",
    "Our dataset is huge and so is our dimension. Therefore, we use the divide and conquer approach, because we do not have enough memory to allocate the amount of data as numpy arrays\n",
    "\n",
    "\n",
    "##### note: this can take a little bit time"
   ]
  },
  {
   "cell_type": "code",
   "execution_count": 22,
   "metadata": {},
   "outputs": [],
   "source": [
    "from tqdm import tqdm\n",
    "\n",
    "def div_and_conq(texts):\n",
    "    preds = []\n",
    "    texts = list(texts)\n",
    "    \n",
    "    for i in tqdm(range(len(texts))):\n",
    "        padded_text = pad_sequence([texts[i]])\n",
    "        torch_pad_text = torch.FloatTensor(padded_text)\n",
    "        output = model(torch_pad_text)\n",
    "        _, pred = torch.max(output.data, 1)\n",
    "        preds.extend(pred)\n",
    "        \n",
    "    return preds"
   ]
  },
  {
   "cell_type": "code",
   "execution_count": 52,
   "metadata": {},
   "outputs": [
    {
     "name": "stderr",
     "output_type": "stream",
     "text": [
      " 65%|████████████████████████████████████████████████▍                          | 54587/84484 [06:51<03:42, 134.25it/s]"
     ]
    },
    {
     "name": "stdout",
     "output_type": "stream",
     "text": [
      "word is not included\n"
     ]
    },
    {
     "name": "stderr",
     "output_type": "stream",
     "text": [
      "100%|███████████████████████████████████████████████████████████████████████████| 84484/84484 [10:40<00:00, 131.95it/s]\n"
     ]
    }
   ],
   "source": [
    "X_test = div_and_conq(test.TITLE)\n",
    "Y_test = test.labels"
   ]
  },
  {
   "cell_type": "code",
   "execution_count": 67,
   "metadata": {},
   "outputs": [
    {
     "name": "stdout",
     "output_type": "stream",
     "text": [
      "Model accuracy is 93.9527 %\n"
     ]
    }
   ],
   "source": [
    "from sklearn.metrics import accuracy_score,confusion_matrix\n",
    "import matplotlib.pyplot as plt\n",
    "import seaborn as sns\n",
    "\n",
    "acc_score = round(100*accuracy_score(X_test,Y_test),4)\n",
    "\n",
    "print(f\"Model accuracy is {acc_score} %\")"
   ]
  },
  {
   "cell_type": "code",
   "execution_count": 68,
   "metadata": {},
   "outputs": [
    {
     "data": {
      "image/png": "[encoded data removed]",
      "text/plain": [
       "<Figure size 432x432 with 2 Axes>"
      ]
     },
     "metadata": {
      "needs_background": "light"
     },
     "output_type": "display_data"
    }
   ],
   "source": [
    "confusion_matrix = confusion_matrix(y_pred=X_test,y_true=Y_test)\n",
    "\n",
    "fig,ax = plt.subplots(figsize=(6,6))\n",
    "sns.heatmap(confusion_matrix,annot=True,fmt=\"0.1f\",linewidths=1.5)\n",
    "plt.show()"
   ]
  },
  {
   "cell_type": "code",
   "execution_count": 71,
   "metadata": {},
   "outputs": [
    {
     "name": "stdout",
     "output_type": "stream",
     "text": [
      "precision: [0.90712035 0.97638686 0.9596603  0.91659513]\n",
      "recall: [0.92226873 0.96721906 0.90159574 0.93518647]\n",
      "f1score: [0.91463182 0.97178133 0.92972232 0.92579747]\n"
     ]
    }
   ],
   "source": [
    "from sklearn.metrics import precision_recall_fscore_support as score\n",
    "\n",
    "precision, recall, fscore, _ = score(Y_test,X_test)\n",
    "\n",
    "print('precision: {}'.format(precision))\n",
    "print('recall: {}'.format(recall))\n",
    "print('f1score: {}'.format(fscore))"
   ]
  }
 ],
 "metadata": {
  "kernelspec": {
   "display_name": "Python 3",
   "language": "python",
   "name": "python3"
  },
  "language_info": {
   "codemirror_mode": {
    "name": "ipython",
    "version": 3
   },
   "file_extension": ".py",
   "mimetype": "text/x-python",
   "name": "python",
   "nbconvert_exporter": "python",
   "pygments_lexer": "ipython3",
   "version": "3.8.8"
  }
 },
 "nbformat": 4,
 "nbformat_minor": 4
}
