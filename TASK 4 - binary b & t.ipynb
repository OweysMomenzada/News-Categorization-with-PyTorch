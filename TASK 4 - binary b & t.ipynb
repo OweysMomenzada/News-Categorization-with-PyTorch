{
 "cells": [
  {
   "cell_type": "markdown",
   "metadata": {},
   "source": [
    "# Assignment <span style=\"color:red\">option Four</span> - News Categorization  using PyTorch \n",
    "Download the dataset from https://www.kaggle.com/uciml/news-aggregator-dataset and develop a news classification or categorization model. The dataset contain only titles of a news item and some metadata. The categories of the news items include one of: –<span  style=\"color:red\"> b</span> : business – <span  style=\"color:red\">t</span> : science and technology – <span  style=\"color:red\">e</span> : entertainment and –<span  style=\"color:red\">m</span> : health. \n",
    "\n",
    "1. Prepare training and test dataset: Split the data into training and test set (80% train and 20% test). Make sure they are balanced, otherwise if all <span  style=\"color:red\">b</span> files are on training, your model fails to predict <span  style=\"color:red\">t</span> files in test.\n",
    "2. Binary classification: produce training data for each two categories, such as <span  style=\"color:red\">b </span> and <span  style=\"color:red\"> t</span>, <span  style=\"color:red\">b</span> and <span  style=\"color:red\"> m</span>, <span  style=\"color:red\">e</span> and <span  style=\"color:red\">t</span> and so on. Evaluate the performance and report which categories are easier for the models.\n",
    "3. Adapt the Text Categorization PyTorch code (see above) and evaluate the performance of the system for these task\n",
    "4. Use a pre-trained embeddings and compare your result. When you use pre-ttrained mebeddings, you have to average the word embeddings of each tokens in ach document to get the unique representation of the document. DOC_EMBEDDING = (TOKEN1_EMBEDDING + ... + TOKENn_EMBEDDING). You can also use some of the <span  style=\"color:red\">spacy/FLAIR </span>document embedding methods\n",
    "6. Report the recall, precision, and F1 scores for both binary and multi-class classification.\n",
    " "
   ]
  },
  {
   "cell_type": "markdown",
   "metadata": {},
   "source": [
    "# Binary classification (Category: b & t)"
   ]
  },
  {
   "cell_type": "markdown",
   "metadata": {},
   "source": [
    "#### In this notebook we train the model on a integer sequence based on the tokens (NOT PRETRAINED). "
   ]
  },
  {
   "cell_type": "code",
   "execution_count": 1,
   "metadata": {},
   "outputs": [],
   "source": [
    "import pandas as pd\n",
    "from sklearn.model_selection import train_test_split\n",
    "from collections import Counter\n",
    "\n",
    "df = pd.read_csv('uci-news-aggregator.csv')\n",
    "\n",
    "del df['URL']\n",
    "del df['PUBLISHER']\n",
    "del df['STORY']\n",
    "del df['HOSTNAME']\n",
    "del df['TIMESTAMP']\n",
    "del df['ID']"
   ]
  },
  {
   "cell_type": "code",
   "execution_count": 8,
   "metadata": {},
   "outputs": [
    {
     "data": {
      "text/html": [
       "<div>\n",
       "<style scoped>\n",
       "    .dataframe tbody tr th:only-of-type {\n",
       "        vertical-align: middle;\n",
       "    }\n",
       "\n",
       "    .dataframe tbody tr th {\n",
       "        vertical-align: top;\n",
       "    }\n",
       "\n",
       "    .dataframe thead th {\n",
       "        text-align: right;\n",
       "    }\n",
       "</style>\n",
       "<table border=\"1\" class=\"dataframe\">\n",
       "  <thead>\n",
       "    <tr style=\"text-align: right;\">\n",
       "      <th></th>\n",
       "      <th>index</th>\n",
       "      <th>TITLE</th>\n",
       "      <th>CATEGORY</th>\n",
       "    </tr>\n",
       "  </thead>\n",
       "  <tbody>\n",
       "    <tr>\n",
       "      <th>0</th>\n",
       "      <td>0</td>\n",
       "      <td>Titanfall Review Roundup</td>\n",
       "      <td>t</td>\n",
       "    </tr>\n",
       "    <tr>\n",
       "      <th>1</th>\n",
       "      <td>1</td>\n",
       "      <td>Titanfall review: my buddy</td>\n",
       "      <td>t</td>\n",
       "    </tr>\n",
       "    <tr>\n",
       "      <th>2</th>\n",
       "      <td>2</td>\n",
       "      <td>Respawn: Titanfall's server stability is in Mi...</td>\n",
       "      <td>t</td>\n",
       "    </tr>\n",
       "    <tr>\n",
       "      <th>3</th>\n",
       "      <td>3</td>\n",
       "      <td>Titanfall's Resolution 'Likely' to be Increase...</td>\n",
       "      <td>t</td>\n",
       "    </tr>\n",
       "    <tr>\n",
       "      <th>4</th>\n",
       "      <td>4</td>\n",
       "      <td>Xbox One Titanfall Bundle Release Date Tomorro...</td>\n",
       "      <td>t</td>\n",
       "    </tr>\n",
       "    <tr>\n",
       "      <th>...</th>\n",
       "      <td>...</td>\n",
       "      <td>...</td>\n",
       "      <td>...</td>\n",
       "    </tr>\n",
       "    <tr>\n",
       "      <th>224306</th>\n",
       "      <td>224306</td>\n",
       "      <td>Cooley Advises The Honest Company on $70 Milli...</td>\n",
       "      <td>b</td>\n",
       "    </tr>\n",
       "    <tr>\n",
       "      <th>224307</th>\n",
       "      <td>224307</td>\n",
       "      <td>Jessica Alba's Honest Co. Gets $70 Million in ...</td>\n",
       "      <td>b</td>\n",
       "    </tr>\n",
       "    <tr>\n",
       "      <th>224308</th>\n",
       "      <td>224308</td>\n",
       "      <td>Jessica Alba is General Catalyst's newest bill...</td>\n",
       "      <td>b</td>\n",
       "    </tr>\n",
       "    <tr>\n",
       "      <th>224309</th>\n",
       "      <td>224309</td>\n",
       "      <td>Jessica Alba's The Honest Company raises $70M</td>\n",
       "      <td>b</td>\n",
       "    </tr>\n",
       "    <tr>\n",
       "      <th>224310</th>\n",
       "      <td>224310</td>\n",
       "      <td>Jessica Alba startup The Honest Co. raises $70...</td>\n",
       "      <td>b</td>\n",
       "    </tr>\n",
       "  </tbody>\n",
       "</table>\n",
       "<p>224311 rows × 3 columns</p>\n",
       "</div>"
      ],
      "text/plain": [
       "         index                                              TITLE CATEGORY\n",
       "0            0                           Titanfall Review Roundup        t\n",
       "1            1                         Titanfall review: my buddy        t\n",
       "2            2  Respawn: Titanfall's server stability is in Mi...        t\n",
       "3            3  Titanfall's Resolution 'Likely' to be Increase...        t\n",
       "4            4  Xbox One Titanfall Bundle Release Date Tomorro...        t\n",
       "...        ...                                                ...      ...\n",
       "224306  224306  Cooley Advises The Honest Company on $70 Milli...        b\n",
       "224307  224307  Jessica Alba's Honest Co. Gets $70 Million in ...        b\n",
       "224308  224308  Jessica Alba is General Catalyst's newest bill...        b\n",
       "224309  224309      Jessica Alba's The Honest Company raises $70M        b\n",
       "224310  224310  Jessica Alba startup The Honest Co. raises $70...        b\n",
       "\n",
       "[224311 rows x 3 columns]"
      ]
     },
     "execution_count": 8,
     "metadata": {},
     "output_type": "execute_result"
    }
   ],
   "source": [
    "df_b = df.loc[df.CATEGORY == 'b']\n",
    "df_t = df.loc[df.CATEGORY == 't']\n",
    "df = df_t.append(df_b, ignore_index=True)\n",
    "\n",
    "df.reset_index()"
   ]
  },
  {
   "cell_type": "code",
   "execution_count": 10,
   "metadata": {},
   "outputs": [],
   "source": [
    "df.CATEGORY.replace('b','business', inplace=True)\n",
    "df.CATEGORY.replace('t','science and technology', inplace=True)"
   ]
  },
  {
   "cell_type": "code",
   "execution_count": 11,
   "metadata": {},
   "outputs": [],
   "source": [
    "from sklearn.preprocessing import LabelEncoder\n",
    "\n",
    "lb_make = LabelEncoder()\n",
    "labels = lb_make.fit_transform(df.CATEGORY)"
   ]
  },
  {
   "cell_type": "code",
   "execution_count": 12,
   "metadata": {},
   "outputs": [],
   "source": [
    "df['labels'] = labels"
   ]
  },
  {
   "cell_type": "code",
   "execution_count": 14,
   "metadata": {},
   "outputs": [],
   "source": [
    "import numpy as np\n",
    "from sklearn.model_selection import train_test_split\n",
    "\n",
    "train, test =  train_test_split(df, test_size=0.20, random_state=42)"
   ]
  },
  {
   "cell_type": "code",
   "execution_count": 15,
   "metadata": {},
   "outputs": [
    {
     "data": {
      "text/plain": [
       "business                  92604\n",
       "science and technology    86844\n",
       "Name: CATEGORY, dtype: int64"
      ]
     },
     "execution_count": 15,
     "metadata": {},
     "output_type": "execute_result"
    }
   ],
   "source": [
    "train.CATEGORY.value_counts()"
   ]
  },
  {
   "cell_type": "code",
   "execution_count": 16,
   "metadata": {},
   "outputs": [
    {
     "data": {
      "text/plain": [
       "0    23363\n",
       "1    21500\n",
       "Name: labels, dtype: int64"
      ]
     },
     "execution_count": 16,
     "metadata": {},
     "output_type": "execute_result"
    }
   ],
   "source": [
    "test.labels.value_counts()"
   ]
  },
  {
   "cell_type": "markdown",
   "metadata": {},
   "source": [
    "### Because of memory issues we define 70000 as the maximum number of words considered"
   ]
  },
  {
   "cell_type": "code",
   "execution_count": 17,
   "metadata": {},
   "outputs": [
    {
     "name": "stdout",
     "output_type": "stream",
     "text": [
      "Found 47102 unique tokens.\n"
     ]
    }
   ],
   "source": [
    "from tensorflow.keras.preprocessing.text import Tokenizer\n",
    "from tensorflow.keras.preprocessing.sequence import pad_sequences\n",
    "\n",
    "# The maximum number of most frequent words to be used.\n",
    "MAX_NB_WORDS = 10000\n",
    "# Max number of words in each row\n",
    "MAX_SEQUENCE_LENGTH = 150\n",
    "\n",
    "tokenizer = Tokenizer(num_words=MAX_NB_WORDS, lower=True)\n",
    "tokenizer.fit_on_texts(df['TITLE'].values)\n",
    "word2index = tokenizer.word_index\n",
    "print('Found %s unique tokens.' % len(word2index))"
   ]
  },
  {
   "cell_type": "code",
   "execution_count": 22,
   "metadata": {},
   "outputs": [],
   "source": [
    "from keras.preprocessing.text import text_to_word_sequence\n",
    "\n",
    "def get_batch(df,i,batch_size):\n",
    "    batches = []\n",
    "    results = []\n",
    "    texts = df.TITLE[i*batch_size:i*batch_size+batch_size]\n",
    "    categories = df.labels[i*batch_size:i*batch_size+batch_size]\n",
    "    \n",
    "    for text in texts:\n",
    "        layer = np.zeros(total_words,dtype=float)\n",
    "\n",
    "        for word in text_to_word_sequence(text):\n",
    "            try:\n",
    "                word2index[word.lower()]\n",
    "                layer[word2index[word.lower()]] += 1\n",
    "            except:\n",
    "                print(\"word is not included\")            \n",
    "        batches.append(layer)\n",
    "\n",
    "    for category in categories:\n",
    "        index_y = -1\n",
    "        if category == 0:\n",
    "            index_y = 0\n",
    "        elif category == 1:\n",
    "            index_y = 1\n",
    "        elif category == 2:\n",
    "            index_y = 2\n",
    "        else:\n",
    "            index_y = 3\n",
    "        results.append(index_y)\n",
    "\n",
    "    return np.array(batches),np.array(results)"
   ]
  },
  {
   "cell_type": "code",
   "execution_count": 23,
   "metadata": {},
   "outputs": [],
   "source": [
    "def pad_sequence(texts):\n",
    "    batches = []\n",
    "    for text in texts:\n",
    "        layer = np.zeros(total_words,dtype=float)\n",
    "\n",
    "        for word in text_to_word_sequence(text):\n",
    "            try:\n",
    "                word2index[word.lower()]\n",
    "                layer[word2index[word.lower()]] += 1\n",
    "            except:\n",
    "                print(\"word is not included\")            \n",
    "        batches.append(layer)\n",
    "    \n",
    "    return batches"
   ]
  },
  {
   "cell_type": "code",
   "execution_count": 24,
   "metadata": {},
   "outputs": [],
   "source": [
    "import torch.nn as nn\n",
    "import torch\n",
    "\n",
    "learning_rate = 0.1\n",
    "num_epochs = 3\n",
    "batch_size = 1000\n",
    "display_step = 1\n",
    "total_words = len(word2index)\n",
    "hidden_size = 64 \n",
    "input_size = total_words\n",
    "num_classes = 2\n",
    "\n",
    "class ANN(nn.Module):\n",
    "    def __init__(self, input_size, hidden_size, num_classes):\n",
    "        super(ANN, self).__init__()\n",
    "        self.layer_1 = nn.Linear(input_size,hidden_size, bias=True)\n",
    "        self.relu = nn.ReLU()\n",
    "        self.layer_2 = nn.Linear(hidden_size, hidden_size, bias=True)\n",
    "        self.output_layer = nn.Linear(hidden_size, num_classes, bias=True)\n",
    "\n",
    "    def forward(self, x):\n",
    "        out = self.layer_1(x)\n",
    "        out = self.relu(out)\n",
    "        out = self.layer_2(out)\n",
    "        out = self.relu(out)\n",
    "        out = self.output_layer(out)\n",
    "        return out"
   ]
  },
  {
   "cell_type": "markdown",
   "metadata": {},
   "source": [
    "##### We could observe that the loss is not decreasing under 0.08. Therefore, we earlystop after 3 Epochs"
   ]
  },
  {
   "cell_type": "code",
   "execution_count": 25,
   "metadata": {
    "scrolled": true
   },
   "outputs": [
    {
     "name": "stdout",
     "output_type": "stream",
     "text": [
      "Epoch [1/3], Step [4/179], Loss: 0.6174\n",
      "Epoch [1/3], Step [8/179], Loss: 0.4335\n",
      "Epoch [1/3], Step [12/179], Loss: 0.3415\n",
      "Epoch [1/3], Step [16/179], Loss: 0.2399\n",
      "Epoch [1/3], Step [20/179], Loss: 0.2127\n",
      "Epoch [1/3], Step [24/179], Loss: 0.2342\n",
      "Epoch [1/3], Step [28/179], Loss: 0.2475\n",
      "Epoch [1/3], Step [32/179], Loss: 0.2277\n",
      "Epoch [1/3], Step [36/179], Loss: 0.2329\n",
      "Epoch [1/3], Step [40/179], Loss: 0.2029\n",
      "Epoch [1/3], Step [44/179], Loss: 0.1981\n",
      "Epoch [1/3], Step [48/179], Loss: 0.1795\n",
      "Epoch [1/3], Step [52/179], Loss: 0.2235\n",
      "Epoch [1/3], Step [56/179], Loss: 0.2166\n",
      "word is not included\n",
      "Epoch [1/3], Step [60/179], Loss: 0.1610\n",
      "Epoch [1/3], Step [64/179], Loss: 0.1710\n",
      "Epoch [1/3], Step [68/179], Loss: 0.1800\n",
      "Epoch [1/3], Step [72/179], Loss: 0.1953\n",
      "Epoch [1/3], Step [76/179], Loss: 0.1638\n",
      "Epoch [1/3], Step [80/179], Loss: 0.1450\n",
      "Epoch [1/3], Step [84/179], Loss: 0.1534\n",
      "Epoch [1/3], Step [88/179], Loss: 0.1406\n",
      "Epoch [1/3], Step [92/179], Loss: 0.1433\n",
      "Epoch [1/3], Step [96/179], Loss: 0.1475\n",
      "Epoch [1/3], Step [100/179], Loss: 0.1614\n",
      "Epoch [1/3], Step [104/179], Loss: 0.1578\n",
      "Epoch [1/3], Step [108/179], Loss: 0.1647\n",
      "Epoch [1/3], Step [112/179], Loss: 0.1575\n",
      "Epoch [1/3], Step [116/179], Loss: 0.1835\n",
      "Epoch [1/3], Step [120/179], Loss: 0.1617\n",
      "Epoch [1/3], Step [124/179], Loss: 0.1513\n",
      "Epoch [1/3], Step [128/179], Loss: 0.1323\n",
      "Epoch [1/3], Step [132/179], Loss: 0.1492\n",
      "Epoch [1/3], Step [136/179], Loss: 0.1266\n",
      "Epoch [1/3], Step [140/179], Loss: 0.1250\n",
      "Epoch [1/3], Step [144/179], Loss: 0.1481\n",
      "Epoch [1/3], Step [148/179], Loss: 0.1358\n",
      "Epoch [1/3], Step [152/179], Loss: 0.1574\n",
      "Epoch [1/3], Step [156/179], Loss: 0.1402\n",
      "Epoch [1/3], Step [160/179], Loss: 0.1537\n",
      "Epoch [1/3], Step [164/179], Loss: 0.1520\n",
      "Epoch [1/3], Step [168/179], Loss: 0.1256\n",
      "Epoch [1/3], Step [172/179], Loss: 0.1119\n",
      "Epoch [1/3], Step [176/179], Loss: 0.1647\n",
      "Epoch [2/3], Step [4/179], Loss: 0.1114\n",
      "Epoch [2/3], Step [8/179], Loss: 0.1131\n",
      "Epoch [2/3], Step [12/179], Loss: 0.1027\n",
      "Epoch [2/3], Step [16/179], Loss: 0.1184\n",
      "Epoch [2/3], Step [20/179], Loss: 0.0993\n",
      "Epoch [2/3], Step [24/179], Loss: 0.1220\n",
      "Epoch [2/3], Step [28/179], Loss: 0.1152\n",
      "Epoch [2/3], Step [32/179], Loss: 0.1159\n",
      "Epoch [2/3], Step [36/179], Loss: 0.1299\n",
      "Epoch [2/3], Step [40/179], Loss: 0.1143\n",
      "Epoch [2/3], Step [44/179], Loss: 0.1105\n",
      "Epoch [2/3], Step [48/179], Loss: 0.0985\n",
      "Epoch [2/3], Step [52/179], Loss: 0.1221\n",
      "Epoch [2/3], Step [56/179], Loss: 0.1057\n",
      "word is not included\n",
      "Epoch [2/3], Step [60/179], Loss: 0.0893\n",
      "Epoch [2/3], Step [64/179], Loss: 0.1193\n",
      "Epoch [2/3], Step [68/179], Loss: 0.1031\n",
      "Epoch [2/3], Step [72/179], Loss: 0.1127\n",
      "Epoch [2/3], Step [76/179], Loss: 0.0972\n",
      "Epoch [2/3], Step [80/179], Loss: 0.0937\n",
      "Epoch [2/3], Step [84/179], Loss: 0.0968\n",
      "Epoch [2/3], Step [88/179], Loss: 0.0992\n",
      "Epoch [2/3], Step [92/179], Loss: 0.0912\n",
      "Epoch [2/3], Step [96/179], Loss: 0.0899\n",
      "Epoch [2/3], Step [100/179], Loss: 0.0972\n",
      "Epoch [2/3], Step [104/179], Loss: 0.0982\n",
      "Epoch [2/3], Step [108/179], Loss: 0.1049\n",
      "Epoch [2/3], Step [112/179], Loss: 0.1008\n",
      "Epoch [2/3], Step [116/179], Loss: 0.1150\n",
      "Epoch [2/3], Step [120/179], Loss: 0.0896\n",
      "Epoch [2/3], Step [124/179], Loss: 0.0945\n",
      "Epoch [2/3], Step [128/179], Loss: 0.0885\n",
      "Epoch [2/3], Step [132/179], Loss: 0.0995\n",
      "Epoch [2/3], Step [136/179], Loss: 0.0912\n",
      "Epoch [2/3], Step [140/179], Loss: 0.0626\n",
      "Epoch [2/3], Step [144/179], Loss: 0.0718\n",
      "Epoch [2/3], Step [148/179], Loss: 0.0879\n",
      "Epoch [2/3], Step [152/179], Loss: 0.1048\n",
      "Epoch [2/3], Step [156/179], Loss: 0.0724\n",
      "Epoch [2/3], Step [160/179], Loss: 0.0805\n",
      "Epoch [2/3], Step [164/179], Loss: 0.1104\n",
      "Epoch [2/3], Step [168/179], Loss: 0.0969\n",
      "Epoch [2/3], Step [172/179], Loss: 0.0817\n",
      "Epoch [2/3], Step [176/179], Loss: 0.0790\n",
      "Epoch [3/3], Step [4/179], Loss: 0.0725\n",
      "Epoch [3/3], Step [8/179], Loss: 0.0724\n",
      "Epoch [3/3], Step [12/179], Loss: 0.0957\n",
      "Epoch [3/3], Step [16/179], Loss: 0.0625\n",
      "Epoch [3/3], Step [20/179], Loss: 0.0645\n",
      "Epoch [3/3], Step [24/179], Loss: 0.0716\n",
      "Epoch [3/3], Step [28/179], Loss: 0.0894\n",
      "Epoch [3/3], Step [32/179], Loss: 0.0884\n",
      "Epoch [3/3], Step [36/179], Loss: 0.0953\n",
      "Epoch [3/3], Step [40/179], Loss: 0.0736\n",
      "Epoch [3/3], Step [44/179], Loss: 0.0797\n",
      "Epoch [3/3], Step [48/179], Loss: 0.0686\n",
      "Epoch [3/3], Step [52/179], Loss: 0.0825\n",
      "Epoch [3/3], Step [56/179], Loss: 0.0940\n",
      "word is not included\n",
      "Epoch [3/3], Step [60/179], Loss: 0.0617\n",
      "Epoch [3/3], Step [64/179], Loss: 0.0834\n",
      "Epoch [3/3], Step [68/179], Loss: 0.0728\n",
      "Epoch [3/3], Step [72/179], Loss: 0.0728\n",
      "Epoch [3/3], Step [76/179], Loss: 0.0660\n",
      "Epoch [3/3], Step [80/179], Loss: 0.0711\n",
      "Epoch [3/3], Step [84/179], Loss: 0.0712\n",
      "Epoch [3/3], Step [88/179], Loss: 0.0598\n",
      "Epoch [3/3], Step [92/179], Loss: 0.0686\n",
      "Epoch [3/3], Step [96/179], Loss: 0.0644\n",
      "Epoch [3/3], Step [100/179], Loss: 0.0665\n",
      "Epoch [3/3], Step [104/179], Loss: 0.0875\n",
      "Epoch [3/3], Step [108/179], Loss: 0.0682\n",
      "Epoch [3/3], Step [112/179], Loss: 0.0601\n",
      "Epoch [3/3], Step [116/179], Loss: 0.0859\n",
      "Epoch [3/3], Step [120/179], Loss: 0.0557\n",
      "Epoch [3/3], Step [124/179], Loss: 0.0596\n",
      "Epoch [3/3], Step [128/179], Loss: 0.0668\n",
      "Epoch [3/3], Step [132/179], Loss: 0.0654\n",
      "Epoch [3/3], Step [136/179], Loss: 0.0730\n",
      "Epoch [3/3], Step [140/179], Loss: 0.0498\n",
      "Epoch [3/3], Step [144/179], Loss: 0.0598\n",
      "Epoch [3/3], Step [148/179], Loss: 0.0674\n",
      "Epoch [3/3], Step [152/179], Loss: 0.0695\n",
      "Epoch [3/3], Step [156/179], Loss: 0.0629\n",
      "Epoch [3/3], Step [160/179], Loss: 0.0590\n",
      "Epoch [3/3], Step [164/179], Loss: 0.0729\n",
      "Epoch [3/3], Step [168/179], Loss: 0.0637\n",
      "Epoch [3/3], Step [172/179], Loss: 0.0658\n",
      "Epoch [3/3], Step [176/179], Loss: 0.0631\n"
     ]
    }
   ],
   "source": [
    "model = ANN(input_size, hidden_size, num_classes)\n",
    "criterion = nn.CrossEntropyLoss()\n",
    "optimizer = torch.optim.Adam(model.parameters(), lr=learning_rate)  \n",
    "\n",
    "for epoch in range(num_epochs):\n",
    "    total_batch = int(len(train.TITLE)/batch_size)\n",
    "    for i in range(total_batch):\n",
    "        batch_x,batch_y = get_batch(train,i,batch_size)\n",
    "        articles = torch.FloatTensor(batch_x)\n",
    "        labels = torch.LongTensor(batch_y)\n",
    "\n",
    "        optimizer.zero_grad()\n",
    "        outputs = model(articles)\n",
    "        loss = criterion(outputs, labels)\n",
    "        loss.backward()\n",
    "        optimizer.step()\n",
    "\n",
    "        if (i+1) % 4 == 0:\n",
    "            print ('Epoch [%d/%d], Step [%d/%d], Loss: %.4f'\n",
    "                   %(epoch+1, num_epochs, i+1, \n",
    "                     len(train.TITLE)/batch_size, loss.data))"
   ]
  },
  {
   "cell_type": "code",
   "execution_count": 61,
   "metadata": {
    "scrolled": true
   },
   "outputs": [],
   "source": [
    "#torch.save(ANN.state_dict(input_size, hidden_size, num_classes), 'mode.pth')\n",
    "\n",
    "# model = ANN(input_size, hidden_size, num_classes)\n",
    "# model.load_state_dict(torch.load('mode.pth'))\n",
    "# model.eval()"
   ]
  },
  {
   "cell_type": "markdown",
   "metadata": {},
   "source": [
    "## Divide and conquer\n",
    "\n",
    "Our dataset is huge and so is our dimension. Therefore, we use the divide and conquer approach, because we do not have enough memory to allocate the amount of data as numpy arrays\n",
    "\n",
    "\n",
    "##### note: this can take a little bit time"
   ]
  },
  {
   "cell_type": "code",
   "execution_count": 26,
   "metadata": {},
   "outputs": [],
   "source": [
    "from tqdm import tqdm\n",
    "\n",
    "def div_and_conq(texts):\n",
    "    preds = []\n",
    "    texts = list(texts)\n",
    "    \n",
    "    for i in tqdm(range(len(texts))):\n",
    "        padded_text = pad_sequence([texts[i]])\n",
    "        torch_pad_text = torch.FloatTensor(padded_text)\n",
    "        output = model(torch_pad_text)\n",
    "        _, pred = torch.max(output.data, 1)\n",
    "        preds.extend(pred)\n",
    "        \n",
    "    return preds"
   ]
  },
  {
   "cell_type": "code",
   "execution_count": 27,
   "metadata": {},
   "outputs": [
    {
     "name": "stderr",
     "output_type": "stream",
     "text": [
      "100%|███████████████████████████████████████████████████████████████████████████| 44863/44863 [04:15<00:00, 175.52it/s]\n"
     ]
    }
   ],
   "source": [
    "X_test = div_and_conq(test.TITLE)\n",
    "Y_test = test.labels"
   ]
  },
  {
   "cell_type": "code",
   "execution_count": 28,
   "metadata": {},
   "outputs": [
    {
     "name": "stdout",
     "output_type": "stream",
     "text": [
      "Model accuracy is 94.1734 %\n"
     ]
    }
   ],
   "source": [
    "from sklearn.metrics import accuracy_score,confusion_matrix\n",
    "import matplotlib.pyplot as plt\n",
    "import seaborn as sns\n",
    "\n",
    "acc_score = round(100*accuracy_score(X_test,Y_test),4)\n",
    "\n",
    "print(f\"Model accuracy is {acc_score} %\")"
   ]
  },
  {
   "cell_type": "code",
   "execution_count": 29,
   "metadata": {},
   "outputs": [
    {
     "data": {
      "image/png": "[encoded data removed]",
      "text/plain": [
       "<Figure size 432x432 with 2 Axes>"
      ]
     },
     "metadata": {
      "needs_background": "light"
     },
     "output_type": "display_data"
    }
   ],
   "source": [
    "confusion_matrix = confusion_matrix(y_pred=X_test,y_true=Y_test)\n",
    "\n",
    "fig,ax = plt.subplots(figsize=(6,6))\n",
    "sns.heatmap(confusion_matrix,annot=True,fmt=\"0.1f\",linewidths=1.5)\n",
    "plt.show()"
   ]
  },
  {
   "cell_type": "code",
   "execution_count": 30,
   "metadata": {},
   "outputs": [
    {
     "name": "stdout",
     "output_type": "stream",
     "text": [
      "precision: [0.9390951  0.94466943]\n",
      "recall: [0.9497068  0.93306977]\n",
      "f1score: [0.94437114 0.93883377]\n"
     ]
    }
   ],
   "source": [
    "from sklearn.metrics import precision_recall_fscore_support as score\n",
    "\n",
    "precision, recall, fscore, _ = score(Y_test,X_test)\n",
    "\n",
    "print('precision: {}'.format(precision))\n",
    "print('recall: {}'.format(recall))\n",
    "print('f1score: {}'.format(fscore))"
   ]
  }
 ],
 "metadata": {
  "kernelspec": {
   "display_name": "Python 3",
   "language": "python",
   "name": "python3"
  },
  "language_info": {
   "codemirror_mode": {
    "name": "ipython",
    "version": 3
   },
   "file_extension": ".py",
   "mimetype": "text/x-python",
   "name": "python",
   "nbconvert_exporter": "python",
   "pygments_lexer": "ipython3",
   "version": "3.8.5"
  }
 },
 "nbformat": 4,
 "nbformat_minor": 4
}
